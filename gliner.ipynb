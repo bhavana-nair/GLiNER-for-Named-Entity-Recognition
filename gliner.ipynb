{
 "cells": [
  {
   "cell_type": "code",
   "execution_count": 1,
   "id": "4ec814a1",
   "metadata": {
    "collapsed": true
   },
   "outputs": [
    {
     "name": "stdout",
     "output_type": "stream",
     "text": [
      "Requirement already satisfied: gliner-spacy in /Users/bhavanarajannair/anaconda3/lib/python3.11/site-packages (0.0.2)\n",
      "Requirement already satisfied: spacy in /Users/bhavanarajannair/anaconda3/lib/python3.11/site-packages (from gliner-spacy) (3.7.4)\n",
      "Requirement already satisfied: gliner in /Users/bhavanarajannair/anaconda3/lib/python3.11/site-packages (from gliner-spacy) (0.1.2)\n",
      "Requirement already satisfied: torch in /Users/bhavanarajannair/anaconda3/lib/python3.11/site-packages (from gliner->gliner-spacy) (2.1.0)\n",
      "Requirement already satisfied: transformers in /Users/bhavanarajannair/anaconda3/lib/python3.11/site-packages (from gliner->gliner-spacy) (4.29.2)\n",
      "Requirement already satisfied: huggingface-hub in /Users/bhavanarajannair/anaconda3/lib/python3.11/site-packages (from gliner->gliner-spacy) (0.15.1)\n",
      "Requirement already satisfied: flair in /Users/bhavanarajannair/anaconda3/lib/python3.11/site-packages (from gliner->gliner-spacy) (0.13.1)\n",
      "Requirement already satisfied: seqeval in /Users/bhavanarajannair/anaconda3/lib/python3.11/site-packages (from gliner->gliner-spacy) (1.2.2)\n",
      "Requirement already satisfied: tqdm in /Users/bhavanarajannair/anaconda3/lib/python3.11/site-packages (from gliner->gliner-spacy) (4.65.0)\n",
      "Requirement already satisfied: spacy-legacy<3.1.0,>=3.0.11 in /Users/bhavanarajannair/anaconda3/lib/python3.11/site-packages (from spacy->gliner-spacy) (3.0.12)\n",
      "Requirement already satisfied: spacy-loggers<2.0.0,>=1.0.0 in /Users/bhavanarajannair/anaconda3/lib/python3.11/site-packages (from spacy->gliner-spacy) (1.0.5)\n",
      "Requirement already satisfied: murmurhash<1.1.0,>=0.28.0 in /Users/bhavanarajannair/anaconda3/lib/python3.11/site-packages (from spacy->gliner-spacy) (1.0.10)\n",
      "Requirement already satisfied: cymem<2.1.0,>=2.0.2 in /Users/bhavanarajannair/anaconda3/lib/python3.11/site-packages (from spacy->gliner-spacy) (2.0.8)\n",
      "Requirement already satisfied: preshed<3.1.0,>=3.0.2 in /Users/bhavanarajannair/anaconda3/lib/python3.11/site-packages (from spacy->gliner-spacy) (3.0.9)\n",
      "Requirement already satisfied: thinc<8.3.0,>=8.2.2 in /Users/bhavanarajannair/anaconda3/lib/python3.11/site-packages (from spacy->gliner-spacy) (8.2.3)\n",
      "Requirement already satisfied: wasabi<1.2.0,>=0.9.1 in /Users/bhavanarajannair/anaconda3/lib/python3.11/site-packages (from spacy->gliner-spacy) (1.1.2)\n",
      "Requirement already satisfied: srsly<3.0.0,>=2.4.3 in /Users/bhavanarajannair/anaconda3/lib/python3.11/site-packages (from spacy->gliner-spacy) (2.4.8)\n",
      "Requirement already satisfied: catalogue<2.1.0,>=2.0.6 in /Users/bhavanarajannair/anaconda3/lib/python3.11/site-packages (from spacy->gliner-spacy) (2.0.10)\n",
      "Requirement already satisfied: weasel<0.4.0,>=0.1.0 in /Users/bhavanarajannair/anaconda3/lib/python3.11/site-packages (from spacy->gliner-spacy) (0.3.4)\n",
      "Requirement already satisfied: typer<0.10.0,>=0.3.0 in /Users/bhavanarajannair/anaconda3/lib/python3.11/site-packages (from spacy->gliner-spacy) (0.9.0)\n",
      "Requirement already satisfied: smart-open<7.0.0,>=5.2.1 in /Users/bhavanarajannair/anaconda3/lib/python3.11/site-packages (from spacy->gliner-spacy) (5.2.1)\n",
      "Requirement already satisfied: requests<3.0.0,>=2.13.0 in /Users/bhavanarajannair/anaconda3/lib/python3.11/site-packages (from spacy->gliner-spacy) (2.31.0)\n",
      "Requirement already satisfied: pydantic!=1.8,!=1.8.1,<3.0.0,>=1.7.4 in /Users/bhavanarajannair/anaconda3/lib/python3.11/site-packages (from spacy->gliner-spacy) (2.6.4)\n",
      "Requirement already satisfied: jinja2 in /Users/bhavanarajannair/anaconda3/lib/python3.11/site-packages (from spacy->gliner-spacy) (3.1.2)\n",
      "Requirement already satisfied: setuptools in /Users/bhavanarajannair/anaconda3/lib/python3.11/site-packages (from spacy->gliner-spacy) (68.0.0)\n",
      "Requirement already satisfied: packaging>=20.0 in /Users/bhavanarajannair/anaconda3/lib/python3.11/site-packages (from spacy->gliner-spacy) (23.0)\n",
      "Requirement already satisfied: langcodes<4.0.0,>=3.2.0 in /Users/bhavanarajannair/anaconda3/lib/python3.11/site-packages (from spacy->gliner-spacy) (3.3.0)\n",
      "Requirement already satisfied: numpy>=1.19.0 in /Users/bhavanarajannair/anaconda3/lib/python3.11/site-packages (from spacy->gliner-spacy) (1.24.3)\n",
      "Requirement already satisfied: annotated-types>=0.4.0 in /Users/bhavanarajannair/anaconda3/lib/python3.11/site-packages (from pydantic!=1.8,!=1.8.1,<3.0.0,>=1.7.4->spacy->gliner-spacy) (0.6.0)\n",
      "Requirement already satisfied: pydantic-core==2.16.3 in /Users/bhavanarajannair/anaconda3/lib/python3.11/site-packages (from pydantic!=1.8,!=1.8.1,<3.0.0,>=1.7.4->spacy->gliner-spacy) (2.16.3)\n",
      "Requirement already satisfied: typing-extensions>=4.6.1 in /Users/bhavanarajannair/anaconda3/lib/python3.11/site-packages (from pydantic!=1.8,!=1.8.1,<3.0.0,>=1.7.4->spacy->gliner-spacy) (4.7.1)\n",
      "Requirement already satisfied: charset-normalizer<4,>=2 in /Users/bhavanarajannair/anaconda3/lib/python3.11/site-packages (from requests<3.0.0,>=2.13.0->spacy->gliner-spacy) (2.0.4)\n",
      "Requirement already satisfied: idna<4,>=2.5 in /Users/bhavanarajannair/anaconda3/lib/python3.11/site-packages (from requests<3.0.0,>=2.13.0->spacy->gliner-spacy) (3.4)\n",
      "Requirement already satisfied: urllib3<3,>=1.21.1 in /Users/bhavanarajannair/anaconda3/lib/python3.11/site-packages (from requests<3.0.0,>=2.13.0->spacy->gliner-spacy) (1.26.16)\n",
      "Requirement already satisfied: certifi>=2017.4.17 in /Users/bhavanarajannair/anaconda3/lib/python3.11/site-packages (from requests<3.0.0,>=2.13.0->spacy->gliner-spacy) (2024.2.2)\n",
      "Requirement already satisfied: blis<0.8.0,>=0.7.8 in /Users/bhavanarajannair/anaconda3/lib/python3.11/site-packages (from thinc<8.3.0,>=8.2.2->spacy->gliner-spacy) (0.7.11)\n",
      "Requirement already satisfied: confection<1.0.0,>=0.0.1 in /Users/bhavanarajannair/anaconda3/lib/python3.11/site-packages (from thinc<8.3.0,>=8.2.2->spacy->gliner-spacy) (0.1.4)\n",
      "Requirement already satisfied: click<9.0.0,>=7.1.1 in /Users/bhavanarajannair/anaconda3/lib/python3.11/site-packages (from typer<0.10.0,>=0.3.0->spacy->gliner-spacy) (8.0.4)\n",
      "Requirement already satisfied: cloudpathlib<0.17.0,>=0.7.0 in /Users/bhavanarajannair/anaconda3/lib/python3.11/site-packages (from weasel<0.4.0,>=0.1.0->spacy->gliner-spacy) (0.16.0)\n",
      "Requirement already satisfied: boto3>=1.20.27 in /Users/bhavanarajannair/anaconda3/lib/python3.11/site-packages (from flair->gliner->gliner-spacy) (1.34.65)\n",
      "Requirement already satisfied: bpemb>=0.3.2 in /Users/bhavanarajannair/anaconda3/lib/python3.11/site-packages (from flair->gliner->gliner-spacy) (0.3.5)\n",
      "Requirement already satisfied: conllu>=4.0 in /Users/bhavanarajannair/anaconda3/lib/python3.11/site-packages (from flair->gliner->gliner-spacy) (4.5.3)\n",
      "Requirement already satisfied: deprecated>=1.2.13 in /Users/bhavanarajannair/anaconda3/lib/python3.11/site-packages (from flair->gliner->gliner-spacy) (1.2.14)\n",
      "Requirement already satisfied: ftfy>=6.1.0 in /Users/bhavanarajannair/anaconda3/lib/python3.11/site-packages (from flair->gliner->gliner-spacy) (6.2.0)\n",
      "Requirement already satisfied: gdown>=4.4.0 in /Users/bhavanarajannair/anaconda3/lib/python3.11/site-packages (from flair->gliner->gliner-spacy) (5.1.0)\n",
      "Requirement already satisfied: gensim>=4.2.0 in /Users/bhavanarajannair/anaconda3/lib/python3.11/site-packages (from flair->gliner->gliner-spacy) (4.3.0)\n",
      "Requirement already satisfied: janome>=0.4.2 in /Users/bhavanarajannair/anaconda3/lib/python3.11/site-packages (from flair->gliner->gliner-spacy) (0.5.0)\n",
      "Requirement already satisfied: langdetect>=1.0.9 in /Users/bhavanarajannair/anaconda3/lib/python3.11/site-packages (from flair->gliner->gliner-spacy) (1.0.9)\n",
      "Requirement already satisfied: lxml>=4.8.0 in /Users/bhavanarajannair/anaconda3/lib/python3.11/site-packages (from flair->gliner->gliner-spacy) (4.9.2)\n",
      "Requirement already satisfied: matplotlib>=2.2.3 in /Users/bhavanarajannair/anaconda3/lib/python3.11/site-packages (from flair->gliner->gliner-spacy) (3.7.1)\n",
      "Requirement already satisfied: more-itertools>=8.13.0 in /Users/bhavanarajannair/anaconda3/lib/python3.11/site-packages (from flair->gliner->gliner-spacy) (10.2.0)\n",
      "Requirement already satisfied: mpld3>=0.3 in /Users/bhavanarajannair/anaconda3/lib/python3.11/site-packages (from flair->gliner->gliner-spacy) (0.5.10)\n",
      "Requirement already satisfied: pptree>=3.1 in /Users/bhavanarajannair/anaconda3/lib/python3.11/site-packages (from flair->gliner->gliner-spacy) (3.1)\n",
      "Requirement already satisfied: python-dateutil>=2.8.2 in /Users/bhavanarajannair/anaconda3/lib/python3.11/site-packages (from flair->gliner->gliner-spacy) (2.8.2)\n",
      "Requirement already satisfied: pytorch-revgrad>=0.2.0 in /Users/bhavanarajannair/anaconda3/lib/python3.11/site-packages (from flair->gliner->gliner-spacy) (0.2.0)\n",
      "Requirement already satisfied: regex>=2022.1.18 in /Users/bhavanarajannair/anaconda3/lib/python3.11/site-packages (from flair->gliner->gliner-spacy) (2022.7.9)\n",
      "Requirement already satisfied: scikit-learn>=1.0.2 in /Users/bhavanarajannair/anaconda3/lib/python3.11/site-packages (from flair->gliner->gliner-spacy) (1.3.0)\n",
      "Requirement already satisfied: segtok>=1.5.11 in /Users/bhavanarajannair/anaconda3/lib/python3.11/site-packages (from flair->gliner->gliner-spacy) (1.5.11)\n",
      "Requirement already satisfied: sqlitedict>=2.0.0 in /Users/bhavanarajannair/anaconda3/lib/python3.11/site-packages (from flair->gliner->gliner-spacy) (2.1.0)\n",
      "Requirement already satisfied: tabulate>=0.8.10 in /Users/bhavanarajannair/anaconda3/lib/python3.11/site-packages (from flair->gliner->gliner-spacy) (0.8.10)\n",
      "Requirement already satisfied: transformer-smaller-training-vocab>=0.2.3 in /Users/bhavanarajannair/anaconda3/lib/python3.11/site-packages (from flair->gliner->gliner-spacy) (0.3.3)\n",
      "Requirement already satisfied: wikipedia-api>=0.5.7 in /Users/bhavanarajannair/anaconda3/lib/python3.11/site-packages (from flair->gliner->gliner-spacy) (0.6.0)\n",
      "Requirement already satisfied: semver<4.0.0,>=3.0.0 in /Users/bhavanarajannair/anaconda3/lib/python3.11/site-packages (from flair->gliner->gliner-spacy) (3.0.2)\n"
     ]
    },
    {
     "name": "stdout",
     "output_type": "stream",
     "text": [
      "Requirement already satisfied: filelock in /Users/bhavanarajannair/anaconda3/lib/python3.11/site-packages (from huggingface-hub->gliner->gliner-spacy) (3.9.0)\n",
      "Requirement already satisfied: fsspec in /Users/bhavanarajannair/anaconda3/lib/python3.11/site-packages (from huggingface-hub->gliner->gliner-spacy) (2023.4.0)\n",
      "Requirement already satisfied: pyyaml>=5.1 in /Users/bhavanarajannair/anaconda3/lib/python3.11/site-packages (from huggingface-hub->gliner->gliner-spacy) (6.0)\n",
      "Requirement already satisfied: sympy in /Users/bhavanarajannair/anaconda3/lib/python3.11/site-packages (from torch->gliner->gliner-spacy) (1.11.1)\n",
      "Requirement already satisfied: networkx in /Users/bhavanarajannair/anaconda3/lib/python3.11/site-packages (from torch->gliner->gliner-spacy) (3.1)\n",
      "Requirement already satisfied: MarkupSafe>=2.0 in /Users/bhavanarajannair/anaconda3/lib/python3.11/site-packages (from jinja2->spacy->gliner-spacy) (2.1.1)\n",
      "Requirement already satisfied: tokenizers!=0.11.3,<0.14,>=0.11.1 in /Users/bhavanarajannair/anaconda3/lib/python3.11/site-packages (from transformers->gliner->gliner-spacy) (0.13.2)\n",
      "Requirement already satisfied: botocore<1.35.0,>=1.34.65 in /Users/bhavanarajannair/anaconda3/lib/python3.11/site-packages (from boto3>=1.20.27->flair->gliner->gliner-spacy) (1.34.65)\n",
      "Requirement already satisfied: jmespath<2.0.0,>=0.7.1 in /Users/bhavanarajannair/anaconda3/lib/python3.11/site-packages (from boto3>=1.20.27->flair->gliner->gliner-spacy) (0.10.0)\n",
      "Requirement already satisfied: s3transfer<0.11.0,>=0.10.0 in /Users/bhavanarajannair/anaconda3/lib/python3.11/site-packages (from boto3>=1.20.27->flair->gliner->gliner-spacy) (0.10.1)\n",
      "Requirement already satisfied: sentencepiece in /Users/bhavanarajannair/anaconda3/lib/python3.11/site-packages (from bpemb>=0.3.2->flair->gliner->gliner-spacy) (0.1.99)\n",
      "Requirement already satisfied: wrapt<2,>=1.10 in /Users/bhavanarajannair/anaconda3/lib/python3.11/site-packages (from deprecated>=1.2.13->flair->gliner->gliner-spacy) (1.14.1)\n",
      "Requirement already satisfied: wcwidth<0.3.0,>=0.2.12 in /Users/bhavanarajannair/anaconda3/lib/python3.11/site-packages (from ftfy>=6.1.0->flair->gliner->gliner-spacy) (0.2.13)\n",
      "Requirement already satisfied: beautifulsoup4 in /Users/bhavanarajannair/anaconda3/lib/python3.11/site-packages (from gdown>=4.4.0->flair->gliner->gliner-spacy) (4.12.2)\n",
      "Requirement already satisfied: scipy>=1.7.0 in /Users/bhavanarajannair/anaconda3/lib/python3.11/site-packages (from gensim>=4.2.0->flair->gliner->gliner-spacy) (1.10.1)\n",
      "Requirement already satisfied: FuzzyTM>=0.4.0 in /Users/bhavanarajannair/anaconda3/lib/python3.11/site-packages (from gensim>=4.2.0->flair->gliner->gliner-spacy) (2.0.5)\n",
      "Requirement already satisfied: six in /Users/bhavanarajannair/anaconda3/lib/python3.11/site-packages (from langdetect>=1.0.9->flair->gliner->gliner-spacy) (1.16.0)\n",
      "Requirement already satisfied: contourpy>=1.0.1 in /Users/bhavanarajannair/anaconda3/lib/python3.11/site-packages (from matplotlib>=2.2.3->flair->gliner->gliner-spacy) (1.0.5)\n",
      "Requirement already satisfied: cycler>=0.10 in /Users/bhavanarajannair/anaconda3/lib/python3.11/site-packages (from matplotlib>=2.2.3->flair->gliner->gliner-spacy) (0.11.0)\n",
      "Requirement already satisfied: fonttools>=4.22.0 in /Users/bhavanarajannair/anaconda3/lib/python3.11/site-packages (from matplotlib>=2.2.3->flair->gliner->gliner-spacy) (4.25.0)\n",
      "Requirement already satisfied: kiwisolver>=1.0.1 in /Users/bhavanarajannair/anaconda3/lib/python3.11/site-packages (from matplotlib>=2.2.3->flair->gliner->gliner-spacy) (1.4.4)\n",
      "Requirement already satisfied: pillow>=6.2.0 in /Users/bhavanarajannair/anaconda3/lib/python3.11/site-packages (from matplotlib>=2.2.3->flair->gliner->gliner-spacy) (10.2.0)\n",
      "Requirement already satisfied: pyparsing>=2.3.1 in /Users/bhavanarajannair/anaconda3/lib/python3.11/site-packages (from matplotlib>=2.2.3->flair->gliner->gliner-spacy) (3.0.9)\n",
      "Requirement already satisfied: joblib>=1.1.1 in /Users/bhavanarajannair/anaconda3/lib/python3.11/site-packages (from scikit-learn>=1.0.2->flair->gliner->gliner-spacy) (1.2.0)\n",
      "Requirement already satisfied: threadpoolctl>=2.0.0 in /Users/bhavanarajannair/anaconda3/lib/python3.11/site-packages (from scikit-learn>=1.0.2->flair->gliner->gliner-spacy) (2.2.0)\n",
      "Requirement already satisfied: protobuf<=3.20.2 in /Users/bhavanarajannair/anaconda3/lib/python3.11/site-packages (from transformers->gliner->gliner-spacy) (3.20.2)\n",
      "Requirement already satisfied: mpmath>=0.19 in /Users/bhavanarajannair/anaconda3/lib/python3.11/site-packages (from sympy->torch->gliner->gliner-spacy) (1.3.0)\n",
      "Requirement already satisfied: pandas in /Users/bhavanarajannair/anaconda3/lib/python3.11/site-packages (from FuzzyTM>=0.4.0->gensim>=4.2.0->flair->gliner->gliner-spacy) (1.5.3)\n",
      "Requirement already satisfied: pyfume in /Users/bhavanarajannair/anaconda3/lib/python3.11/site-packages (from FuzzyTM>=0.4.0->gensim>=4.2.0->flair->gliner->gliner-spacy) (0.3.1)\n",
      "Requirement already satisfied: accelerate>=0.19.0 in /Users/bhavanarajannair/anaconda3/lib/python3.11/site-packages (from transformers->gliner->gliner-spacy) (0.28.0)\n",
      "Requirement already satisfied: soupsieve>1.2 in /Users/bhavanarajannair/anaconda3/lib/python3.11/site-packages (from beautifulsoup4->gdown>=4.4.0->flair->gliner->gliner-spacy) (2.4)\n",
      "Requirement already satisfied: PySocks!=1.5.7,>=1.5.6 in /Users/bhavanarajannair/anaconda3/lib/python3.11/site-packages (from requests<3.0.0,>=2.13.0->spacy->gliner-spacy) (1.7.1)\n",
      "Requirement already satisfied: psutil in /Users/bhavanarajannair/anaconda3/lib/python3.11/site-packages (from accelerate>=0.19.0->transformers->gliner->gliner-spacy) (5.9.0)\n",
      "Requirement already satisfied: safetensors>=0.3.1 in /Users/bhavanarajannair/anaconda3/lib/python3.11/site-packages (from accelerate>=0.19.0->transformers->gliner->gliner-spacy) (0.4.2)\n",
      "Requirement already satisfied: pytz>=2020.1 in /Users/bhavanarajannair/anaconda3/lib/python3.11/site-packages (from pandas->FuzzyTM>=0.4.0->gensim>=4.2.0->flair->gliner->gliner-spacy) (2022.7)\n",
      "Requirement already satisfied: simpful in /Users/bhavanarajannair/anaconda3/lib/python3.11/site-packages (from pyfume->FuzzyTM>=0.4.0->gensim>=4.2.0->flair->gliner->gliner-spacy) (2.12.0)\n",
      "Requirement already satisfied: fst-pso in /Users/bhavanarajannair/anaconda3/lib/python3.11/site-packages (from pyfume->FuzzyTM>=0.4.0->gensim>=4.2.0->flair->gliner->gliner-spacy) (1.8.1)\n",
      "Requirement already satisfied: miniful in /Users/bhavanarajannair/anaconda3/lib/python3.11/site-packages (from fst-pso->pyfume->FuzzyTM>=0.4.0->gensim>=4.2.0->flair->gliner->gliner-spacy) (0.0.6)\n",
      "Note: you may need to restart the kernel to use updated packages.\n"
     ]
    }
   ],
   "source": [
    "pip install gliner-spacy\n",
    "python -m spacy download en_core_web_sm"
   ]
  },
  {
   "cell_type": "code",
   "execution_count": 13,
   "id": "171d71a2",
   "metadata": {
    "collapsed": true
   },
   "outputs": [
    {
     "name": "stderr",
     "output_type": "stream",
     "text": [
      "config.json not found in HuggingFace Hub.\n"
     ]
    },
    {
     "data": {
      "application/vnd.jupyter.widget-view+json": {
       "model_id": "5df2ae698c8f4017b593184d6df10a85",
       "version_major": 2,
       "version_minor": 0
      },
      "text/plain": [
       "Downloading pytorch_model.bin:   0%|          | 0.00/1.84G [00:00<?, ?B/s]"
      ]
     },
     "metadata": {},
     "output_type": "display_data"
    },
    {
     "data": {
      "application/vnd.jupyter.widget-view+json": {
       "model_id": "6e26d8a412f94148bd541bc4eb27e932",
       "version_major": 2,
       "version_minor": 0
      },
      "text/plain": [
       "Downloading gliner_config.json:   0%|          | 0.00/474 [00:00<?, ?B/s]"
      ]
     },
     "metadata": {},
     "output_type": "display_data"
    },
    {
     "data": {
      "application/vnd.jupyter.widget-view+json": {
       "model_id": "8bd58d91ca3445168e36d0aaa2bc5ab3",
       "version_major": 2,
       "version_minor": 0
      },
      "text/plain": [
       "Downloading tokenizer_config.json:   0%|          | 0.00/52.0 [00:00<?, ?B/s]"
      ]
     },
     "metadata": {},
     "output_type": "display_data"
    },
    {
     "data": {
      "application/vnd.jupyter.widget-view+json": {
       "model_id": "a9cf2fdd026d46c8869b0d20dc3c5095",
       "version_major": 2,
       "version_minor": 0
      },
      "text/plain": [
       "Downloading config.json:   0%|          | 0.00/580 [00:00<?, ?B/s]"
      ]
     },
     "metadata": {},
     "output_type": "display_data"
    },
    {
     "data": {
      "application/vnd.jupyter.widget-view+json": {
       "model_id": "4468fe0f47044b7fbe2af8b749a66b73",
       "version_major": 2,
       "version_minor": 0
      },
      "text/plain": [
       "Downloading spm.model:   0%|          | 0.00/2.46M [00:00<?, ?B/s]"
      ]
     },
     "metadata": {},
     "output_type": "display_data"
    },
    {
     "data": {
      "application/vnd.jupyter.widget-view+json": {
       "model_id": "1a0b654c986d437cafdba74b6197823b",
       "version_major": 2,
       "version_minor": 0
      },
      "text/plain": [
       "Downloading pytorch_model.bin:   0%|          | 0.00/874M [00:00<?, ?B/s]"
      ]
     },
     "metadata": {},
     "output_type": "display_data"
    }
   ],
   "source": [
    "from gliner import GLiNER\n",
    "model = GLiNER.from_pretrained(\"urchade/gliner_largev2\")"
   ]
  },
  {
   "cell_type": "code",
   "execution_count": 34,
   "id": "bb15ac68",
   "metadata": {},
   "outputs": [],
   "source": [
    "text =\"\"\"\n",
    "  \n",
    "Responsibilities\n",
    "\n",
    "Depending on the candidate, the role can be targeted more towards ML engineering or research (publication-focused)\n",
    "\n",
    "Design, train, and fine-tune state-of-the-art large language models\n",
    "Develop AI agents combined with retrieval-augmented language models\n",
    "Build efficient and scalable ML training and inference systems\n",
    "Stay up-to-date with the latest literature and emerging technologies to solve novel problems\n",
    "Work closely with product and design teams to develop intuitive applications that create societal impact\n",
    "Data Scientist, Data Analyst, or Data Engineer with 1+ years of experience.\n",
    "Experience with technologies such as Docker, Kubernetes, or Kubeflow.\n",
    "Machine Learning experience preferred.\n",
    "Experience with programming languages such as Python, C++, or SQL preferred.\n",
    "Experience with technologies such as Databricks, Qlik, TensorFlow, PyTorch, Python, Dash, Pandas, or NumPy preferred.\\nBA or BS degree Active Secret OR Active Top Secret or Active TS/SCI clearance\"\n",
    "\n",
    "Qualifications\n",
    "\n",
    "Proficiency in Python and PyTorch\n",
    "Experience pushing or implementing the cutting-edge in machine learning\n",
    "Self-starter and hungry learner\n",
    "Highly motivated to make positive societal impact\n",
    "Ability to wear multiple hats\n",
    "Visa for work in Canada or US\n",
    "\n",
    "Bonus:\n",
    "strong open-source portfolio\n",
    "publications at top-tier ML venues\n",
    "experience working in an early-stage startup environment \n",
    "understanding of how machine learning models fail in the wild\n",
    "\n",
    "\"\"\"\n"
   ]
  },
  {
   "cell_type": "code",
   "execution_count": 35,
   "id": "efe43fc9",
   "metadata": {},
   "outputs": [
    {
     "name": "stdout",
     "output_type": "stream",
     "text": [
      "Docker => technology\n",
      "Kubernetes => technology\n",
      "Kubeflow => technology\n",
      "Python => programing language\n",
      "C++ => programing language\n",
      "SQL => programing language\n",
      "Databricks => technology\n",
      "PyTorch => technology\n",
      "Python => programing language\n",
      "Dash => technology\n",
      "Pandas => technology\n",
      "NumPy => technology\n",
      "Python => programing language\n"
     ]
    }
   ],
   "source": [
    "labels = [\"skills\", \"technology\", \"programing language\", \"software tool\"]\n",
    "entities = model.predict_entities(text, labels)\n",
    "for entity in entities:\n",
    "    print(entity[\"text\"], \"=>\", entity[\"label\"])"
   ]
  },
  {
   "cell_type": "code",
   "execution_count": null,
   "id": "5851b662",
   "metadata": {},
   "outputs": [],
   "source": []
  }
 ],
 "metadata": {
  "kernelspec": {
   "display_name": "Python 3 (ipykernel)",
   "language": "python",
   "name": "python3"
  },
  "language_info": {
   "codemirror_mode": {
    "name": "ipython",
    "version": 3
   },
   "file_extension": ".py",
   "mimetype": "text/x-python",
   "name": "python",
   "nbconvert_exporter": "python",
   "pygments_lexer": "ipython3",
   "version": "3.11.4"
  }
 },
 "nbformat": 4,
 "nbformat_minor": 5
}
